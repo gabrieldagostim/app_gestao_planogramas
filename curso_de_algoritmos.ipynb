{
 "cells": [
  {
   "cell_type": "code",
   "execution_count": 3,
   "metadata": {},
   "outputs": [
    {
     "name": "stdout",
     "output_type": "stream",
     "text": [
      "No Brasil estaria 37.78 Graus\n"
     ]
    }
   ],
   "source": [
    "# C = F - 32 / 1.8\n",
    "\n",
    "\n",
    "\n",
    "f = int(input('Qual a temperatura atual'))\n",
    "\n",
    "c = round((f - 32) / 1.8,2)\n",
    "\n",
    "print(f'No Brasil estaria {c} Graus')\n"
   ]
  },
  {
   "cell_type": "code",
   "execution_count": null,
   "metadata": {},
   "outputs": [],
   "source": [
    "# Muamba sempre 60%\n",
    "# imposto de 60%\n",
    "\n",
    "preco = int(input(\"Qual o valor do produto\"))\n",
    "imposto = round(preco * 0.6,2)\n",
    "print(f'O imposto do produto é de {imposto} Dólares')"
   ]
  },
  {
   "cell_type": "code",
   "execution_count": 12,
   "metadata": {},
   "outputs": [
    {
     "name": "stdout",
     "output_type": "stream",
     "text": [
      "Você vai receber R$55000 e pagar ao total R$66000.00 e escolheu pagar em 48 parcelas\n",
      "O valor da parcela ficou em R$1375.00 por mês\n"
     ]
    }
   ],
   "source": [
    "# Empréstimo da creuza\n",
    "\n",
    "\n",
    "# 20% de juros e vai poder parcelar\n",
    "\n",
    "# Qual valor do empréstimo?\n",
    "# Quantas parcelas?\n",
    "\n",
    "vtotal = int(input(\"Qual o valor do empréstimo?\"))\n",
    "qtdparc = int(input(\"Em quantas parcelas?\"))\n",
    "\n",
    "vtjuros = (vtotal * 0.2) + vtotal\n",
    "valparc = vtjuros/qtdparc\n",
    "\n",
    "print(f'Você vai receber R${vtotal} e pagar ao total R${vtjuros:.2f} e escolheu pagar em {qtdparc} parcelas')\n",
    "print(f'O valor da parcela ficou em R${valparc:.2f} por mês')\n"
   ]
  },
  {
   "cell_type": "code",
   "execution_count": null,
   "metadata": {},
   "outputs": [
    {
     "name": "stdout",
     "output_type": "stream",
     "text": [
      "Não\n"
     ]
    }
   ],
   "source": [
    "autorizacao = input('Posso andar [S/N]')\n",
    "\n",
    "if autorizacao == \"S\":\n",
    "    print('Estou andando')\n",
    "else:\n",
    "    print('Não, ficar parado')"
   ]
  },
  {
   "cell_type": "code",
   "execution_count": 17,
   "metadata": {},
   "outputs": [
    {
     "name": "stdout",
     "output_type": "stream",
     "text": [
      "Bora trabalhar porque não ta dando\n"
     ]
    }
   ],
   "source": [
    "dinheiro = 95000\n",
    "\n",
    "if (dinheiro >= 10000):\n",
    "    print('Partiu Disney')\n",
    "else:\n",
    "    print('Bora trabalhar porque não ta dando')"
   ]
  },
  {
   "cell_type": "code",
   "execution_count": 20,
   "metadata": {},
   "outputs": [
    {
     "name": "stdout",
     "output_type": "stream",
     "text": [
      "em 2025 você terá 15\n"
     ]
    }
   ],
   "source": [
    "ano_atual = 2025\n",
    "ano_nascim = int(input(\"Em que ano voce nasceu?\"))\n",
    "\n",
    "idade = ano_atual - ano_nascim\n",
    "print(f'em {ano_atual} você terá {idade}')\n",
    "\n",
    "if idade >= 21:\n",
    "    print(' E você já terá atingido a maior idade...')"
   ]
  },
  {
   "cell_type": "code",
   "execution_count": 24,
   "metadata": {},
   "outputs": [
    {
     "name": "stdout",
     "output_type": "stream",
     "text": [
      "o número 9 é impar\n"
     ]
    }
   ],
   "source": [
    "# par ou impar\n",
    "\n",
    "n = int(input('Digite um número'))\n",
    "\n",
    "\n",
    "if (n % 2) == 1:\n",
    "    print(f'o número {n} é impar')\n",
    "else:\n",
    "    print(f'o número {n} é par')\n",
    "\n",
    "\n"
   ]
  },
  {
   "cell_type": "code",
   "execution_count": null,
   "metadata": {},
   "outputs": [
    {
     "name": "stdout",
     "output_type": "stream",
     "text": [
      "Você está acima do limite recomendado o seu IMC é de 25.08 e o limite é 25\n"
     ]
    }
   ],
   "source": [
    "# Calculo IMC\n",
    "\n",
    "massa = float(input('Qual o seu peso? (Kg)'))\n",
    "altura = float(input('Qual a sua altura (m)?'))\n",
    "\n",
    "\n",
    "imc = round(massa / (altura ** 2),2)\n",
    "\n",
    "if (imc >= 18.5) and (imc <= 25):\n",
    "    print(f'Muito bem, está em um IMC de {imc} dentro do recomendado')\n",
    "elif imc < 18.5:\n",
    "    print(f'Você está abaixo do recomendado!')\n",
    "else:\n",
    "    print(f'Você está acima do limite recomendado o seu IMC é de {imc} e o limite é 25')\n",
    "\n",
    "\n"
   ]
  },
  {
   "cell_type": "code",
   "execution_count": 30,
   "metadata": {},
   "outputs": [
    {
     "name": "stdout",
     "output_type": "stream",
     "text": [
      "Você tem 24 anos\n",
      "Você está apto a dirigir\n"
     ]
    }
   ],
   "source": [
    "# Está apto a dirigir?\n",
    "\n",
    "# ano atual?\n",
    "# ano nascimento?\n",
    "# 18>= sim\n",
    "\n",
    "ano_atual = 2025\n",
    "ano_nascimento = int(input(\"Em que ano você nasceu?\"))\n",
    "idade = ano_atual - ano_nascimento\n",
    "\n",
    "print(f'Você tem {idade} anos')\n",
    "if idade >= 18:\n",
    "    print('Você está apto a dirigir')\n",
    "else:\n",
    "    print(f'Você está inapto para dirigir ')"
   ]
  },
  {
   "cell_type": "code",
   "execution_count": 37,
   "metadata": {},
   "outputs": [
    {
     "name": "stdout",
     "output_type": "stream",
     "text": [
      "Sua média é 4.0\n",
      " E você não atingiu a média mínima de aprovação\n"
     ]
    }
   ],
   "source": [
    "# aluno aprovado ou reprovado?\n",
    "# calcula a média de várias notas\n",
    "\n",
    "\n",
    "qtd_notas = int(input('Quantas notas você vai digitar?'))\n",
    "nota = 0\n",
    "for i in range(qtd_notas):\n",
    "    nota += int(input(f'Digite a {i+1}º nota:'))\n",
    "\n",
    "media = round(nota/qtd_notas,0)\n",
    "\n",
    "print(f'Sua média é {media}')\n",
    "if media >= 7:\n",
    "    print(f' E você foi aprovado!!!')\n",
    "elif (media >= 5) and (media < 7):\n",
    "    print(f'Você está de recuperação!')\n",
    "else:\n",
    "    print(f' E você não atingiu a média mínima de aprovação')\n"
   ]
  },
  {
   "cell_type": "code",
   "execution_count": 45,
   "metadata": {},
   "outputs": [
    {
     "name": "stdout",
     "output_type": "stream",
     "text": [
      " SUA DOAÇÃO FOI DE R$ 0\n",
      "Obrigado\n"
     ]
    }
   ],
   "source": [
    "ndonate = int(input(\"Digite uma opção de doação (1 a 5)\"))\n",
    "\n",
    "match ndonate:\n",
    "    case 1:\n",
    "        valor = 10\n",
    "    case 2:\n",
    "        valor = 25\n",
    "    case 3:\n",
    "        valor = 50\n",
    "    case 4:\n",
    "        valor = int(input('Qual o valor da docação? R$:'))\n",
    "    case _:\n",
    "        valor = 0\n",
    "\n",
    "print(f' SUA DOAÇÃO FOI DE R$ {valor}')\n",
    "print('Obrigado')"
   ]
  },
  {
   "cell_type": "code",
   "execution_count": 47,
   "metadata": {},
   "outputs": [
    {
     "name": "stdout",
     "output_type": "stream",
     "text": [
      "Novo salário de Gabriel, será de R$ 5900.0\n"
     ]
    }
   ],
   "source": [
    "nome = input('Qual nome do funcionário?')\n",
    "sal = float(input(f'Qual o salário do {nome}?'))\n",
    "dep = int(input(\"Qual a quantidade de dependentes?\"))\n",
    "nsal = 0\n",
    "match dep:\n",
    "    case 0:\n",
    "        nsal = sal + (sal * 0.05)\n",
    "    case 1, 2, 3:\n",
    "        nsal = sal + (sal * 0.10)\n",
    "    case 4, 5, 6:\n",
    "        nsal = sal + (sal * 0.15)\n",
    "    case _:\n",
    "        nsal = sal + (sal * 0.18)\n",
    "\n",
    "\n",
    "print(f'Novo salário de {nome}, será de R$ {nsal}')"
   ]
  },
  {
   "cell_type": "markdown",
   "metadata": {},
   "source": [
    "Aproveitamento de um aluno\n",
    "\n",
    "nota escolar\n",
    "\n",
    "| Nota | Classificação em números |\n",
    "|------|--------------------------|\n",
    "| A    | 1000 - 900              |\n",
    "| B    | 890 - 800               |\n",
    "| C    | 790 - 700               |\n",
    "| D    | 690 - 600               |\n",
    "| E    | 590 - 500               |\n",
    "| F    | Abaixo de 500           |\n",
    "\n"
   ]
  },
  {
   "cell_type": "code",
   "execution_count": 50,
   "metadata": {},
   "outputs": [
    {
     "name": "stdout",
     "output_type": "stream",
     "text": [
      "Sua média é 9.0\n",
      "Nota A\n"
     ]
    }
   ],
   "source": [
    "qtd_notas = int(input('Quantas notas você vai digitar?'))\n",
    "nota = 0\n",
    "for i in range(qtd_notas):\n",
    "    nota += int(input(f'Digite a {i+1}º nota:'))\n",
    "\n",
    "media = round(nota/qtd_notas,0)\n",
    "\n",
    "print(f'Sua média é {media}')\n",
    "\n",
    "if media >= 9:\n",
    "    print('Nota A')\n",
    "elif media >= 8:\n",
    "    print('Nota B')\n",
    "elif media >= 7:\n",
    "    print('Nota C')\n",
    "elif media >= 6:\n",
    "    print('Nota D')\n",
    "elif media >= 5:\n",
    "    print('Nota E')\n",
    "elif media < 5:\n",
    "    print('Nota F')"
   ]
  },
  {
   "cell_type": "code",
   "execution_count": null,
   "metadata": {},
   "outputs": [],
   "source": [
    "mao = 0 \n",
    "while mao <= 5:\n",
    "    print(f'troca {mao}')\n",
    "    mao += 1"
   ]
  },
  {
   "cell_type": "code",
   "execution_count": null,
   "metadata": {},
   "outputs": [],
   "source": [
    "contador = 10\n",
    "\n",
    "while contador >=0:\n",
    "    print(contador)\n",
    "    contador -= 1\n",
    "\n",
    "    "
   ]
  },
  {
   "cell_type": "code",
   "execution_count": null,
   "metadata": {},
   "outputs": [
    {
     "name": "stdout",
     "output_type": "stream",
     "text": [
      "A soma de todos os valores foi: 39\n",
      "O maior valor digitado foi 20\n",
      "O menor valor digitado foi 2\n"
     ]
    }
   ],
   "source": [
    "cont = 1\n",
    "s = 0\n",
    "maior = 0\n",
    "menor = float('inf')\n",
    "while cont <= 5:\n",
    "    n = int(input(f'Digite o {cont}º valor: '))\n",
    "\n",
    "    if n > maior:\n",
    "        maior = n\n",
    "\n",
    "    if n < menor:\n",
    "        menor = n\n",
    "\n",
    "    s = s + n\n",
    "    cont += 1\n",
    "\n",
    "print(f'A soma de todos os valores foi: {s}')\n",
    "print(f'O maior valor digitado foi {maior}')\n",
    "print(f'O menor valor digitado foi {menor}')"
   ]
  },
  {
   "cell_type": "code",
   "execution_count": 63,
   "metadata": {},
   "outputs": [
    {
     "name": "stdout",
     "output_type": "stream",
     "text": [
      "inicio=8\n",
      "fim=0\n",
      "contando...\n",
      "7...\n",
      "6...\n",
      "5...\n",
      "4...\n",
      "3...\n",
      "2...\n",
      "1...\n",
      "0...\n"
     ]
    }
   ],
   "source": [
    "# Contagem inteligente\n",
    "\n",
    "inicio = int(input('Inicio'))\n",
    "fim  = int(input('Fim'))\n",
    "\n",
    "if inicio > fim:\n",
    "    ordem = -1\n",
    "else:\n",
    "    ordem = 1\n",
    "\n",
    "contagem = 0\n",
    "\n",
    "print(f'{inicio=}')\n",
    "print(f'{fim=}')\n",
    "\n",
    "print('contando...')\n",
    "while inicio != fim:\n",
    "    print(f'{inicio+ordem}...')\n",
    "\n",
    "    inicio += ordem\n",
    "\n"
   ]
  },
  {
   "attachments": {
    "image.png": {
     "image/png": "[encoded data removed]"
    }
   },
   "cell_type": "markdown",
   "metadata": {},
   "source": [
    "![image.png](attachment:image.png)"
   ]
  },
  {
   "cell_type": "code",
   "execution_count": 3,
   "metadata": {},
   "outputs": [
    {
     "name": "stdout",
     "output_type": "stream",
     "text": [
      "a soma de todos os valores digitados é 7\n"
     ]
    }
   ],
   "source": [
    "s = 0\n",
    "while True:\n",
    "    n = int(input('Digite o valor: '))\n",
    "    s += n\n",
    "    resp = input('Voce quer continuar? [S/N] ')\n",
    "    if resp.lower() == 'n':\n",
    "        break\n",
    "\n",
    "print(f'a soma de todos os valores digitados é {s}')"
   ]
  },
  {
   "cell_type": "code",
   "execution_count": 5,
   "metadata": {},
   "outputs": [
    {
     "name": "stdout",
     "output_type": "stream",
     "text": [
      "9 x 1 = 9\n",
      "9 x 2 = 18\n",
      "9 x 3 = 27\n",
      "9 x 4 = 36\n",
      "9 x 5 = 45\n",
      "9 x 6 = 54\n",
      "9 x 7 = 63\n",
      "9 x 8 = 72\n",
      "9 x 9 = 81\n",
      "9 x 10 = 90\n"
     ]
    }
   ],
   "source": [
    "cont = 1\n",
    "n = int(input('Digite o valor: '))\n",
    "\n",
    "while True:\n",
    "    r = n * cont\n",
    "    print(f'{n} x {cont} = {r}')\n",
    "    cont += 1\n",
    "\n",
    "    if cont > 10:\n",
    "        break"
   ]
  },
  {
   "cell_type": "code",
   "execution_count": 9,
   "metadata": {},
   "outputs": [
    {
     "name": "stdout",
     "output_type": "stream",
     "text": [
      "10 x\n",
      "9 x\n",
      "8 x\n",
      "7 x\n",
      "6 x\n",
      "5 x\n",
      "4 x\n",
      "3 x\n",
      "2 x\n",
      "1 x\n",
      "Fatorial de 10 = 3628800\n"
     ]
    }
   ],
   "source": [
    "# Calculo fatorial\n",
    "\n",
    "n = int(input('Digite o valor: '))\n",
    "\n",
    "c = n\n",
    "f = 1\n",
    "while True:\n",
    "    print(c, 'x')\n",
    "    f *= c\n",
    "    c -= 1\n",
    "    if c < 1:\n",
    "        break\n",
    "print(f'Fatorial de {n} = {f}')"
   ]
  },
  {
   "cell_type": "code",
   "execution_count": 17,
   "metadata": {},
   "outputs": [
    {
     "name": "stdout",
     "output_type": "stream",
     "text": [
      "O valor 9 não é primo\n"
     ]
    }
   ],
   "source": [
    "# Verificar se um número é ou não primo\n",
    "\n",
    "n = int(input('Digite o valor: '))\n",
    "c = 1\n",
    "qtddiv = 0\n",
    "\n",
    "while True:\n",
    "    if (n % c) == 0:\n",
    "        qtddiv +=1\n",
    "\n",
    "    c +=1\n",
    "    if c > n:\n",
    "        break\n",
    "if qtddiv > 2:\n",
    "    print(f'O valor {n} não é primo')\n",
    "else:\n",
    "    print(f'O valor {n} é primo!')"
   ]
  },
  {
   "cell_type": "code",
   "execution_count": null,
   "metadata": {},
   "outputs": [],
   "source": [
    "# Super contador\n",
    "# [1] 1 a 10\n",
    "# [2] 10 a 1\n",
    "# [3] sair\n",
    "\n",
    "\n",
    "op = 0\n",
    "while True:\n",
    "    op = int(input('[1] para 1 a 10, [2] de 10 a 1 e [3] para sair'))\n",
    "\n",
    "    if op == 1: \n",
    "        for n in range(1,11,1):\n",
    "            print(n)\n",
    "    elif op == 2: \n",
    "        for n in range(10,0,-1):\n",
    "            print(n)\n",
    "    elif op == 3:\n",
    "        break\n",
    "    else:\n",
    "        print('Opção inválida. opções validas -> [1,2,3]')\n"
   ]
  },
  {
   "cell_type": "code",
   "execution_count": 29,
   "metadata": {},
   "outputs": [
    {
     "name": "stdout",
     "output_type": "stream",
     "text": [
      "Ao todo foram 5 foram entre 0 e 10\n",
      "Ao todo entre 0 e 10 e é impar 3\n"
     ]
    }
   ],
   "source": [
    "tot010 = 0\n",
    "s_imp = 0\n",
    "for c in range(6):\n",
    "    v = int(input(\"Valor:\"))\n",
    "    if v >= 0 and v <= 10:\n",
    "        tot010 += 1\n",
    "        if v%2==1:\n",
    "            s_imp += 1\n",
    "\n",
    "print(f'Ao todo foram {tot010} foram entre 0 e 10')\n",
    "print(f'Ao todo entre 0 e 10 e é impar {s_imp}')"
   ]
  },
  {
   "cell_type": "code",
   "execution_count": 32,
   "metadata": {},
   "outputs": [
    {
     "name": "stdout",
     "output_type": "stream",
     "text": [
      "1 1\n",
      "1 2\n",
      "1 3\n",
      "2 1\n",
      "2 2\n",
      "2 3\n",
      "3 1\n",
      "3 2\n",
      "3 3\n"
     ]
    }
   ],
   "source": [
    "# Combinações\n",
    "c1 = 0\n",
    "c2 = 0\n",
    "\n",
    "for c1 in range(3):\n",
    "    for c2 in range(3):\n",
    "        print(c1+1,c2+1)\n"
   ]
  },
  {
   "cell_type": "code",
   "execution_count": 38,
   "metadata": {},
   "outputs": [
    {
     "name": "stdout",
     "output_type": "stream",
     "text": [
      "0\n",
      "1\n",
      "1\n",
      "2\n",
      "3\n",
      "5\n",
      "8\n",
      "13\n",
      "21\n",
      "34\n",
      "55\n",
      "89\n",
      "144\n",
      "233\n",
      "377\n"
     ]
    }
   ],
   "source": [
    "# Sequencia de fibonacci\n",
    "qtd_nums = 15\n",
    "\n",
    "n1, n2 = 0, 1\n",
    "print(n1)\n",
    "print(n2)\n",
    "for n in range(qtd_nums-2):\n",
    "    n3 = n1 + n2\n",
    "    print(n3)\n",
    "    n1, n2 = n2, n3"
   ]
  },
  {
   "cell_type": "code",
   "execution_count": null,
   "metadata": {},
   "outputs": [
    {
     "name": "stdout",
     "output_type": "stream",
     "text": [
      "Valor 1 -> 5\n",
      "Valor 2 -> 5\n",
      "Valor 3 -> 5\n",
      "Valor 4 -> 6\n",
      "Valor 5 -> 4\n",
      "Valor 6 -> 5\n",
      "Soma par: 10\n",
      "qtd divisível por 5: 4\n",
      "qtd nulos: 0\n",
      "Soma valores: 30\n",
      "Média dos valores: 5.0\n"
     ]
    }
   ],
   "source": [
    "# Analisador de valores\n",
    "qtd_v = 5\n",
    "sv = 0\n",
    "md = 0\n",
    "qtdiv5 = 0\n",
    "qnul = 0\n",
    "spar = 0\n",
    "n_val = 0\n",
    "\n",
    "while True:\n",
    "\n",
    "    v = int(input(f'Digite o {n_val+1}º Valor:'))\n",
    "    print(f'Valor {n_val+1} -> {v}')\n",
    "\n",
    "    if v % 2 == 0: # par\n",
    "        spar += v\n",
    "\n",
    "    if v % 5 == 0: # multiplo de 5\n",
    "        qtdiv5 += 1\n",
    "\n",
    "    if v == 0:\n",
    "        qnul += 1\n",
    " \n",
    "    sv += v # soma\n",
    "\n",
    "    n_val += 1\n",
    "    qtd_v -= 1\n",
    "    if qtd_v < 0:\n",
    "        break\n",
    "\n",
    "md = (sv/n_val) # media\n",
    "\n",
    "print(f'Soma par: {spar}')\n",
    "print(f'qtd divisível por 5: {qtdiv5}')\n",
    "print(f'qtd nulos: {qnul}')\n",
    "print(f'Soma valores: {sv}')\n",
    "print(f'Média dos valores: {md}')"
   ]
  },
  {
   "cell_type": "code",
   "execution_count": null,
   "metadata": {},
   "outputs": [
    {
     "name": "stdout",
     "output_type": "stream",
     "text": [
      "Valores digitados [0, 5, 6, 9]\n"
     ]
    }
   ],
   "source": [
    "# Bubble Sort\n",
    "\n",
    "vet = [0] * 4\n",
    "for i in range(4):\n",
    "    vet[i] = int(input(\"Digite um valor: \"))\n",
    "\n",
    "for i in range(3):\n",
    "    for j in range(3 - i):\n",
    "        if vet[j] > vet[j + 1]:\n",
    "            vet[j], vet[j + 1] = vet[j + 1], vet[j]\n",
    "\n",
    "\n",
    "print(\"Valores digitados\", vet)"
   ]
  },
  {
   "cell_type": "code",
   "execution_count": null,
   "metadata": {},
   "outputs": [],
   "source": [
    "# ler o nome de 3 times \n",
    "# o programa faz a tabela de times possíveis de ser possível\n",
    "\n",
    "qtd_time = 3\n",
    "vet = [0] * qtd_time\n",
    "for i in range(qtd_time):\n",
    "    vet[i] = input('Time: ')\n",
    "\n",
    "for i in range(qtd_time):\n",
    "    for x in range(qtd_time):        \n",
    "        if not i == x:\n",
    "            print(f'{vet[i]} [] x [] {vet[x]}')"
   ]
  },
  {
   "cell_type": "markdown",
   "metadata": {},
   "source": [
    "EXERCICIO\n",
    "\n",
    "Cadastra o gabarito\n",
    "cadastra o aluno e a prova"
   ]
  },
  {
   "cell_type": "markdown",
   "metadata": {},
   "source": [
    "EXERCICIO\n",
    "\n",
    "reservar o espaço de um cinema\n",
    "\n"
   ]
  },
  {
   "cell_type": "markdown",
   "metadata": {},
   "source": []
  },
  {
   "cell_type": "code",
   "execution_count": 80,
   "metadata": {},
   "outputs": [
    {
     "name": "stdout",
     "output_type": "stream",
     "text": [
      "Matriz Digitada:\n",
      "[1, 2]\n",
      "[3, 4]\n",
      "[5, 6]\n"
     ]
    }
   ],
   "source": [
    "mtz = [[0] * 2 for _ in range(3)]\n",
    "\n",
    "for l in range(3):\n",
    "    for c in range(2):\n",
    "        mtz[l][c] = int(input(f'Valor para matriz[{l+1},{c+1}]: '))\n",
    "\n",
    "print('Matriz Digitada:')\n",
    "for linha in mtz:\n",
    "    print(linha)"
   ]
  },
  {
   "cell_type": "code",
   "execution_count": null,
   "metadata": {},
   "outputs": [],
   "source": [
    "matriz = [[0] * 3 for _ in range(2)]\n",
    "tp = 0\n",
    "for linha in range(2):\n",
    "    for coluna in range(3):\n",
    "        matriz[linha][coluna] = int(input(f'Valor para matriz[{linha+1}, {coluna+1}]: '))\n",
    "\n",
    "        if matriz[linha][coluna] % 2 == 0:\n",
    "            print('{', matriz[linha][coluna], '}')\n",
    "            tp += 1\n",
    "        else:\n",
    "            print(matriz[linha][coluna])\n",
    "\n",
    "\n",
    "print(f'Total par {tp}')\n",
    "# 6"
   ]
  },
  {
   "cell_type": "code",
   "execution_count": 112,
   "metadata": {},
   "outputs": [
    {
     "name": "stdout",
     "output_type": "stream",
     "text": [
      "[1, 0, 0]\n",
      "[0, 1, 0]\n",
      "[0, 0, 1]\n"
     ]
    }
   ],
   "source": [
    "# matriz de 3ª ordem\n",
    "\n",
    "m = [[0] * 3 for _ in range(3)]\n",
    "\n",
    "for i in range(3):\n",
    "    for j in range(3):\n",
    "        if (i == j):\n",
    "            m[i][j] = 1\n",
    "        else:\n",
    "            m[i][j] = 0\n",
    "\n",
    "\n",
    "for linha in range(len(m)):\n",
    "    print(m[linha])\n"
   ]
  },
  {
   "cell_type": "code",
   "execution_count": 119,
   "metadata": {},
   "outputs": [
    {
     "name": "stdout",
     "output_type": "stream",
     "text": [
      "[1, 2, 5, 3]\n",
      "[4, 8, 9, 20]\n",
      "[25, 5, 6, 7]\n",
      "[1, 2, 5, 3]\n",
      "\n",
      "A soma da diagonal principal é 18\n"
     ]
    }
   ],
   "source": [
    "# preencher uma matriz de 4ª ordem\n",
    "\n",
    "m = [[0] * 4 for _ in range(4)]\n",
    "\n",
    "sdp = 0\n",
    "\n",
    "for i in range(4):\n",
    "    for j in range(4):\n",
    "        m[i][j] = int(input(\"val posição\"))\n",
    "\n",
    "        if i == j :\n",
    "            sdp += m[i][j]\n",
    "\n",
    "\n",
    "for linha in range(len(m)):\n",
    "    print(m[linha])\n",
    "print()\n",
    "print(f'A soma da diagonal principal é {sdp}')\n",
    "\n"
   ]
  },
  {
   "cell_type": "markdown",
   "metadata": {},
   "source": [
    "Dissecando Matrizes"
   ]
  },
  {
   "cell_type": "code",
   "execution_count": 7,
   "metadata": {},
   "outputs": [
    {
     "name": "stdout",
     "output_type": "stream",
     "text": [
      "[7, 5, 4, 6]\n",
      "[2, 8, 1, 9]\n",
      "[4, 2, 5, 8]\n",
      "[6, 3, 5, 2]\n"
     ]
    }
   ],
   "source": [
    "# Matriz inteira\n",
    "# Triangulo superior\n",
    "# Diagonal principal\n",
    "# Triangulo inferior\n",
    "# matriz de grandeza 4\n",
    "t = 4\n",
    "m = [[0] * t for _ in range(t)]\n",
    "\n",
    "while True:\n",
    "    for l in range(t):\n",
    "        for c in range(t):\n",
    "            m[l][c] = int(input(f\"Valor para [{l},{c}]\"))\n",
    "\n",
    "    for linha in range(len(m)):\n",
    "        print(m[linha])"
   ]
  },
  {
   "cell_type": "code",
   "execution_count": null,
   "metadata": {},
   "outputs": [],
   "source": [
    "\n",
    "6"
   ]
  }
 ],
 "metadata": {
  "kernelspec": {
   "display_name": "Python 3",
   "language": "python",
   "name": "python3"
  },
  "language_info": {
   "codemirror_mode": {
    "name": "ipython",
    "version": 3
   },
   "file_extension": ".py",
   "mimetype": "text/x-python",
   "name": "python",
   "nbconvert_exporter": "python",
   "pygments_lexer": "ipython3",
   "version": "3.11.1"
  }
 },
 "nbformat": 4,
 "nbformat_minor": 2
}
